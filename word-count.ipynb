{
 "cells": [
  {
   "cell_type": "code",
   "execution_count": 14,
   "metadata": {},
   "outputs": [
    {
     "name": "stdout",
     "output_type": "stream",
     "text": [
      "Overwriting mapper.py\n"
     ]
    }
   ],
   "source": [
    "%%writefile mapper.py\n",
    "\n",
    "import sys\n",
    "import re\n",
    "\n",
    "\n",
    "def eprint(*args, **kwargs):\n",
    "    print(*args, file=sys.stderr, **kwargs)\n",
    "\n",
    "for line in sys.stdin:\n",
    "    try:\n",
    "        article_id, text = line.strip().split('\\t', 1)\n",
    "    except ValueError as e:\n",
    "        continue\n",
    "    words = re.split(\"\\W*\\s+\\W*\", text, flags=re.UNICODE)\n",
    "    for word in words:\n",
    "        eprint(\"reporter:counter:Wiki stats,Total words,%d\" % 1)\n",
    "        print(\"%s\\t%d\" % (word.lower(), 1))"
   ]
  },
  {
   "cell_type": "code",
   "execution_count": 15,
   "metadata": {},
   "outputs": [
    {
     "name": "stdout",
     "output_type": "stream",
     "text": [
      "Overwriting reducer.py\n"
     ]
    }
   ],
   "source": [
    "%%writefile reducer.py\n",
    "\n",
    "import sys\n",
    "\n",
    "current_key = None\n",
    "word_sum = 0"
   ]
  },
  {
   "cell_type": "code",
   "execution_count": 16,
   "metadata": {},
   "outputs": [
    {
     "name": "stdout",
     "output_type": "stream",
     "text": [
      "Appending to reducer.py\n"
     ]
    }
   ],
   "source": [
    "%%writefile -a reducer.py\n",
    "\n",
    "for line in sys.stdin:\n",
    "    try:\n",
    "        key, count = line.strip().split('\\t', 1)\n",
    "        count = int(count)\n",
    "    except ValueError as e:\n",
    "        continue\n",
    "    if current_key != key:\n",
    "        if current_key:\n",
    "            print(\"%s\\t%d\" % (current_key, word_sum))\n",
    "        word_sum = 0\n",
    "        current_key = key\n",
    "    word_sum += count\n",
    "\n",
    "if current_key:\n",
    "    print(\"%s\\t%d\" % (current_key, word_sum))"
   ]
  },
  {
   "cell_type": "code",
   "execution_count": 17,
   "metadata": {},
   "outputs": [
    {
     "name": "stdout",
     "output_type": "stream",
     "text": [
      "Found 2 items\r\n",
      "drwxrwxrwx   - jovyan supergroup          0 2020-10-05 14:51 /data/twitter\r\n",
      "drwxrwxrwx   - jovyan supergroup          0 2020-10-05 14:51 /data/wiki\r\n"
     ]
    }
   ],
   "source": [
    "! hdfs dfs -ls /data/"
   ]
  },
  {
   "cell_type": "code",
   "execution_count": 18,
   "metadata": {},
   "outputs": [
    {
     "name": "stdout",
     "output_type": "stream",
     "text": [
      "0%however\t1\n",
      "0&\\mathrm{if\t1\n",
      "0(8)320-1234\t1\n",
      "0)).(1\t2\n",
      "0,03\t1\n",
      "0,1,...,n\t1\n",
      "0,1,0\t1\n",
      "0,1,\\dots,n\t1\n",
      "0,5\t1\n",
      "0,50\t1\n"
     ]
    },
    {
     "name": "stderr",
     "output_type": "stream",
     "text": [
      "rm: `coursera_mr_task0': No such file or directory\n",
      "22/03/10 17:51:55 INFO client.RMProxy: Connecting to ResourceManager at /0.0.0.0:8032\n",
      "22/03/10 17:51:55 INFO client.RMProxy: Connecting to ResourceManager at /0.0.0.0:8032\n",
      "22/03/10 17:51:55 INFO mapred.FileInputFormat: Total input files to process : 1\n",
      "22/03/10 17:51:55 INFO mapreduce.JobSubmitter: number of splits:2\n",
      "22/03/10 17:51:55 INFO Configuration.deprecation: yarn.resourcemanager.system-metrics-publisher.enabled is deprecated. Instead, use yarn.system-metrics-publisher.enabled\n",
      "22/03/10 17:51:55 INFO mapreduce.JobSubmitter: Submitting tokens for job: job_1646930071210_0004\n",
      "22/03/10 17:51:55 INFO conf.Configuration: resource-types.xml not found\n",
      "22/03/10 17:51:55 INFO resource.ResourceUtils: Unable to find 'resource-types.xml'.\n",
      "22/03/10 17:51:55 INFO resource.ResourceUtils: Adding resource type - name = memory-mb, units = Mi, type = COUNTABLE\n",
      "22/03/10 17:51:55 INFO resource.ResourceUtils: Adding resource type - name = vcores, units = , type = COUNTABLE\n",
      "22/03/10 17:51:55 INFO impl.YarnClientImpl: Submitted application application_1646930071210_0004\n",
      "22/03/10 17:51:55 INFO mapreduce.Job: The url to track the job: http://172.17.0.57:8088/proxy/application_1646930071210_0004/\n",
      "22/03/10 17:51:55 INFO mapreduce.Job: Running job: job_1646930071210_0004\n",
      "22/03/10 17:52:00 INFO mapreduce.Job: Job job_1646930071210_0004 running in uber mode : false\n",
      "22/03/10 17:52:00 INFO mapreduce.Job:  map 0% reduce 0%\n",
      "22/03/10 17:52:18 INFO mapreduce.Job:  map 38% reduce 0%\n",
      "22/03/10 17:52:24 INFO mapreduce.Job:  map 46% reduce 0%\n",
      "22/03/10 17:52:30 INFO mapreduce.Job:  map 50% reduce 0%\n",
      "22/03/10 17:52:36 INFO mapreduce.Job:  map 67% reduce 0%\n",
      "22/03/10 17:52:39 INFO mapreduce.Job:  map 83% reduce 0%\n",
      "22/03/10 17:52:40 INFO mapreduce.Job:  map 100% reduce 0%\n",
      "22/03/10 17:52:45 INFO mapreduce.Job:  map 100% reduce 13%\n",
      "22/03/10 17:52:51 INFO mapreduce.Job:  map 100% reduce 25%\n",
      "22/03/10 17:52:55 INFO mapreduce.Job:  map 100% reduce 38%\n",
      "22/03/10 17:52:57 INFO mapreduce.Job:  map 100% reduce 50%\n",
      "22/03/10 17:52:58 INFO mapreduce.Job:  map 100% reduce 75%\n",
      "22/03/10 17:52:59 INFO mapreduce.Job:  map 100% reduce 88%\n",
      "22/03/10 17:53:00 INFO mapreduce.Job:  map 100% reduce 100%\n",
      "22/03/10 17:53:00 INFO mapreduce.Job: Job job_1646930071210_0004 completed successfully\n",
      "22/03/10 17:53:00 INFO mapreduce.Job: Counters: 51\n",
      "\tFile System Counters\n",
      "\t\tFILE: Number of bytes read=17959306\n",
      "\t\tFILE: Number of bytes written=28951280\n",
      "\t\tFILE: Number of read operations=0\n",
      "\t\tFILE: Number of large read operations=0\n",
      "\t\tFILE: Number of write operations=0\n",
      "\t\tHDFS: Number of bytes read=76874501\n",
      "\t\tHDFS: Number of bytes written=5370711\n",
      "\t\tHDFS: Number of read operations=30\n",
      "\t\tHDFS: Number of large read operations=0\n",
      "\t\tHDFS: Number of write operations=16\n",
      "\tJob Counters \n",
      "\t\tKilled reduce tasks=1\n",
      "\t\tLaunched map tasks=2\n",
      "\t\tLaunched reduce tasks=8\n",
      "\t\tData-local map tasks=2\n",
      "\t\tTotal time spent by all maps in occupied slots (ms)=74137\n",
      "\t\tTotal time spent by all reduces in occupied slots (ms)=79427\n",
      "\t\tTotal time spent by all map tasks (ms)=74137\n",
      "\t\tTotal time spent by all reduce tasks (ms)=79427\n",
      "\t\tTotal vcore-milliseconds taken by all map tasks=74137\n",
      "\t\tTotal vcore-milliseconds taken by all reduce tasks=79427\n",
      "\t\tTotal megabyte-milliseconds taken by all map tasks=75916288\n",
      "\t\tTotal megabyte-milliseconds taken by all reduce tasks=81333248\n",
      "\tMap-Reduce Framework\n",
      "\t\tMap input records=4100\n",
      "\t\tMap output records=11937375\n",
      "\t\tMap output bytes=97842608\n",
      "\t\tMap output materialized bytes=8953092\n",
      "\t\tInput split bytes=228\n",
      "\t\tCombine input records=11937375\n",
      "\t\tCombine output records=640030\n",
      "\t\tReduce input groups=427188\n",
      "\t\tReduce shuffle bytes=8953092\n",
      "\t\tReduce input records=640030\n",
      "\t\tReduce output records=427188\n",
      "\t\tSpilled Records=1920090\n",
      "\t\tShuffled Maps =16\n",
      "\t\tFailed Shuffles=0\n",
      "\t\tMerged Map outputs=16\n",
      "\t\tGC time elapsed (ms)=3139\n",
      "\t\tCPU time spent (ms)=59960\n",
      "\t\tPhysical memory (bytes) snapshot=2025431040\n",
      "\t\tVirtual memory (bytes) snapshot=19283693568\n",
      "\t\tTotal committed heap usage (bytes)=1160773632\n",
      "\tShuffle Errors\n",
      "\t\tBAD_ID=0\n",
      "\t\tCONNECTION=0\n",
      "\t\tIO_ERROR=0\n",
      "\t\tWRONG_LENGTH=0\n",
      "\t\tWRONG_MAP=0\n",
      "\t\tWRONG_REDUCE=0\n",
      "\tWiki stats\n",
      "\t\tTotal words=11937375\n",
      "\tFile Input Format Counters \n",
      "\t\tBytes Read=76874273\n",
      "\tFile Output Format Counters \n",
      "\t\tBytes Written=5370711\n",
      "22/03/10 17:53:00 INFO streaming.StreamJob: Output directory: coursera_mr_task0\n",
      "cat: Unable to write to output stream.\n"
     ]
    }
   ],
   "source": [
    "%%bash\n",
    "\n",
    "OUT_DIR=\"coursera_mr_task0\"\n",
    "NUM_REDUCERS=8  # Do not change it\n",
    "\n",
    "hdfs dfs -rm -r -skipTrash ${OUT_DIR} > /dev/null\n",
    "\n",
    "yarn jar /opt/cloudera/parcels/CDH/lib/hadoop-mapreduce/hadoop-streaming.jar \\\n",
    "    -D mapreduce.job.name=\"Streaming Word Count\" \\\n",
    "    -D mapreduce.job.reduces=${NUM_REDUCERS} \\\n",
    "    -files mapper.py,reducer.py \\\n",
    "    -mapper \"python3 mapper.py\" \\\n",
    "    -combiner \"python3 reducer.py\" \\\n",
    "    -reducer \"python3 reducer.py\" \\\n",
    "    -input /data/wiki/en_articles_part \\\n",
    "    -output ${OUT_DIR} > /dev/null\n",
    "\n",
    "hdfs dfs -cat ${OUT_DIR}/part-00000 | head"
   ]
  },
  {
   "cell_type": "code",
   "execution_count": null,
   "metadata": {},
   "outputs": [],
   "source": []
  }
 ],
 "metadata": {
  "kernelspec": {
   "display_name": "Python 3",
   "language": "python",
   "name": "python3"
  },
  "language_info": {
   "codemirror_mode": {
    "name": "ipython",
    "version": 3
   },
   "file_extension": ".py",
   "mimetype": "text/x-python",
   "name": "python",
   "nbconvert_exporter": "python",
   "pygments_lexer": "ipython3",
   "version": "3.6.6"
  }
 },
 "nbformat": 4,
 "nbformat_minor": 2
}
