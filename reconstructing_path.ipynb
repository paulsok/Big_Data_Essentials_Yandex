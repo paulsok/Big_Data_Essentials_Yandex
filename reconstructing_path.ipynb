{
 "cells": [
  {
   "cell_type": "code",
   "execution_count": 2,
   "metadata": {},
   "outputs": [],
   "source": [
    "from pyspark import SparkConf, SparkContext\n",
    "\n",
    "\n",
    "sc = SparkContext(conf=SparkConf().setAppName(\"MyApp\").setMaster(\"local\"))"
   ]
  },
  {
   "cell_type": "code",
   "execution_count": 8,
   "metadata": {},
   "outputs": [
    {
     "name": "stdout",
     "output_type": "stream",
     "text": [
      "12,422,53,52,107,20,23,274,34\n"
     ]
    }
   ],
   "source": [
    "def parse_edge(s):\n",
    "    user, follower = s.split(\"\\t\")\n",
    "    return (int(user), int(follower))\n",
    "\n",
    "def step(item):\n",
    "    print(item)\n",
    "    prev_v, prev_p, next_v = item[0], item[1][0], item[1][1]\n",
    "    return (next_v, prev_p + [next_v])\n",
    "\n",
    "def complete(item):\n",
    "    v, old_p, new_p = item[0], item[1][0], item[1][1]\n",
    "    return (v, old_p if old_p is not None else new_p)\n",
    "\n",
    "n = 4 #00 number of partitions\n",
    "forward_edges = sc.textFile(\"/data/twitter/twitter_sample_small.txt\") \\\n",
    "    .map(parse_edge) \\\n",
    "    .map(lambda x: (x[1], x[0])) \\\n",
    "    .partitionBy(n) \\\n",
    "    .persist()\n",
    "\n",
    "start_v, end_v = 12 , 34\n",
    "paths = sc.parallelize([(start_v, [start_v])]).partitionBy(n)\n",
    "\n",
    "while True:\n",
    "    candidates = paths.join(forward_edges, n).map(step).reduceByKey(min)\n",
    "    paths = paths.fullOuterJoin(candidates, n).map(complete, True).persist()\n",
    "    final_path = paths.lookup(end_v)\n",
    "    if final_path:\n",
    "        print ','.join(map(str,final_path[0]))\n",
    "        break"
   ]
  },
  {
   "cell_type": "code",
   "execution_count": null,
   "metadata": {},
   "outputs": [],
   "source": []
  }
 ],
 "metadata": {
  "kernelspec": {
   "display_name": "Python 3",
   "language": "python",
   "name": "python3"
  },
  "language_info": {
   "codemirror_mode": {
    "name": "ipython",
    "version": 3
   },
   "file_extension": ".py",
   "mimetype": "text/x-python",
   "name": "python",
   "nbconvert_exporter": "python",
   "pygments_lexer": "ipython3",
   "version": "3.8.8"
  }
 },
 "nbformat": 4,
 "nbformat_minor": 2
}
